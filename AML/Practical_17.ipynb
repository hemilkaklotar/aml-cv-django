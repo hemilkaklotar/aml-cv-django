{
  "cells": [
    {
      "cell_type": "markdown",
      "metadata": {
        "id": "pA8v1PW4y-Gw"
      },
      "source": [
        "**Practical 17**"
      ]
    },
    {
      "cell_type": "code",
      "execution_count": 1,
      "metadata": {
        "colab": {
          "base_uri": "https://localhost:8080/",
          "height": 719
        },
        "id": "cn1DsHBQj3l7",
        "outputId": "40e34d6a-e1c4-483e-e725-3c53288a21f9"
      },
      "outputs": [
        {
          "name": "stderr",
          "output_type": "stream",
          "text": [
            "C:\\Users\\Hemil\\AppData\\Local\\Programs\\Python\\Python39\\lib\\site-packages\\keras\\optimizer_v2\\gradient_descent.py:102: UserWarning: The `lr` argument is deprecated, use `learning_rate` instead.\n",
            "  super(SGD, self).__init__(name, **kwargs)\n"
          ]
        },
        {
          "name": "stdout",
          "output_type": "stream",
          "text": [
            "> 98.475\n",
            "> 98.792\n",
            "> 98.692\n",
            "> 98.808\n",
            "> 98.642\n"
          ]
        },
        {
          "data": {
            "image/png": "[encoded data removed]",
            "text/plain": [
              "<Figure size 432x288 with 2 Axes>"
            ]
          },
          "metadata": {
            "needs_background": "light"
          },
          "output_type": "display_data"
        },
        {
          "name": "stdout",
          "output_type": "stream",
          "text": [
            "Accuracy: mean=98.682 std=0.120, n=5\n"
          ]
        },
        {
          "data": {
            "image/png": "[encoded data removed]",
            "text/plain": [
              "<Figure size 432x288 with 1 Axes>"
            ]
          },
          "metadata": {
            "needs_background": "light"
          },
          "output_type": "display_data"
        }
      ],
      "source": [
        "#CNN model for MNIST dataset-Using keras \n",
        "# baseline cnn model for mnist \n",
        "\n",
        "from numpy import mean \n",
        "from numpy import std \n",
        "from matplotlib import pyplot \n",
        "from sklearn.model_selection import KFold \n",
        "from keras.datasets import mnist \n",
        "from tensorflow.keras.utils import to_categorical \n",
        "from keras.models import Sequential \n",
        "from keras.layers import Conv2D \n",
        "from keras.layers import MaxPooling2D \n",
        "from keras.layers import Dense \n",
        "from keras.layers import Flatten \n",
        "from tensorflow.keras.optimizers import SGD\n",
        "\n",
        "# load train and test dataset \n",
        "def load_dataset():\n",
        "  # load dataset\n",
        "  (trainX, trainY), (testX, testY) = mnist.load_data() \n",
        "  # reshape dataset to have a single channel \n",
        "  trainX = trainX.reshape((trainX.shape[0], 28, 28, 1)) \n",
        "  testX = testX.reshape((testX.shape[0], 28, 28, 1)) \n",
        "  # one hot encode target values \n",
        "  trainY = to_categorical(trainY) \n",
        "  testY = to_categorical(testY) \n",
        "  return trainX, trainY, testX, testY \n",
        "\n",
        "# scale pixels \n",
        "def prep_pixels(train, test):\n",
        "  # convert from integers to floats \n",
        "  train_norm = train.astype('float32') \n",
        "  test_norm = test.astype('float32') \n",
        "  # normalize to range 0-1 \n",
        "  train_norm = train_norm / 255.0 \n",
        "  test_norm = test_norm / 255.0 \n",
        "  # return normalized images \n",
        "  return train_norm, test_norm \n",
        "\n",
        "# define cnn model \n",
        "def define_model(): \n",
        "  model = Sequential() \n",
        "  model.add(Conv2D(32, (3, 3), activation='relu', kernel_initializer='he_uniform', input_shape=(28, 28, 1))) \n",
        "  model.add(MaxPooling2D((2, 2))) \n",
        "  model.add(Flatten()) \n",
        "  model.add(Dense(100, activation='relu', kernel_initializer='he_uniform')) \n",
        "  model.add(Dense(10, activation='softmax')) \n",
        "  # compile model \n",
        "  opt = SGD(lr=0.01, momentum=0.9) \n",
        "  model.compile(optimizer=opt, loss='categorical_crossentropy', metrics=['accuracy']) \n",
        "  return model \n",
        "\n",
        "# evaluate a model using k-fold cross-validation \n",
        "def evaluate_model(dataX, dataY, n_folds=5): \n",
        "  scores , histories = list(), list()\n",
        "  # prepare cross validation \n",
        "  kfold = KFold(n_folds, shuffle=True, random_state=1) \n",
        "  # enumerate splits \n",
        "  for train_ix, test_ix in kfold.split(dataX): \n",
        "    # define model \n",
        "    model = define_model() \n",
        "    # select rows for train and test \n",
        "    trainX, trainY, testX, testY = dataX[train_ix], dataY[train_ix], dataX[test_ix], dataY[test_ix] \n",
        "    # fit model \n",
        "    history = model.fit(trainX, trainY, epochs=10, batch_size=32, validation_data=(testX, testY), verbose=0)\n",
        "    # evaluate model \n",
        "    _, acc = model.evaluate(testX, testY, verbose=0) \n",
        "    print('> %.3f' % (acc * 100.0)) \n",
        "    # sores scores \n",
        "    scores.append(acc) \n",
        "    histories.append(history) \n",
        "  return scores, histories \n",
        " \n",
        "\n",
        "# plot diagnostic learning curves \n",
        "def summarize_diagnostics(histories): \n",
        "  for i in range(len(histories)): \n",
        "    # plot loss \n",
        "    pyplot.subplot(2, 1, 1) \n",
        "    pyplot.title('Cross Entropy Loss') \n",
        "    pyplot.plot(histories[i].history['loss'], color='blue', label='train') \n",
        "    pyplot.plot(histories[i].history['val_loss'], color='orange', label='test') \n",
        "    # plot accuracy \n",
        "    pyplot.subplot(2, 1, 2) \n",
        "    pyplot.title('Classification Accuracy') \n",
        "    pyplot.plot(histories[i].history['accuracy'], color='blue', label='train') \n",
        "    pyplot.plot(histories[i].history['val_accuracy'], color='orange', label='test') \n",
        "  pyplot.show() \n",
        "\n",
        "# summarize model performance \n",
        "def summarize_performance(scores): \n",
        "  # print summary \n",
        "  print('Accuracy: mean=%.3f std=%.3f, n=%d' % (mean(scores)*100, std(scores)*100, len(scores))) \n",
        "  # box and whisker plots of results \n",
        "  pyplot.boxplot(scores) \n",
        "  pyplot.show()\n",
        "\n",
        "# run the test harness for evaluating a model \n",
        "def run_test_harness(): \n",
        "  # load dataset \n",
        "  trainX, trainY, testX, testY = load_dataset() \n",
        "  # prepare pixel data \n",
        "  trainX, testX = prep_pixels(trainX, testX) \n",
        "  # evaluate model \n",
        "  scores, histories = evaluate_model(trainX, trainY) \n",
        "  # learning curves \n",
        "  summarize_diagnostics(histories) \n",
        "  # summarize estimated performance \n",
        "  summarize_performance(scores) \n",
        "\n",
        "# entry point, run the test harness   \n",
        "run_test_harness() \n"
      ]
    }
  ],
  "metadata": {
    "colab": {
      "collapsed_sections": [],
      "name": "Practical 17.ipynb",
      "provenance": []
    },
    "kernelspec": {
      "display_name": "Python 3",
      "name": "python3"
    },
    "language_info": {
      "codemirror_mode": {
        "name": "ipython",
        "version": 3
      },
      "file_extension": ".py",
      "mimetype": "text/x-python",
      "name": "python",
      "nbconvert_exporter": "python",
      "pygments_lexer": "ipython3",
      "version": "3.9.9"
    }
  },
  "nbformat": 4,
  "nbformat_minor": 0
}
